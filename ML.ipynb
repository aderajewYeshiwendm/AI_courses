{
 "cells": [
  {
   "cell_type": "code",
   "execution_count": 58,
   "id": "23242f17-03c8-4e44-b6fa-c9d2f2afeebb",
   "metadata": {},
   "outputs": [
    {
     "name": "stderr",
     "output_type": "stream",
     "text": [
      "/home/aderajew/anaconda3/lib/python3.12/site-packages/sklearn/base.py:493: UserWarning: X does not have valid feature names, but DecisionTreeClassifier was fitted with feature names\n",
      "  warnings.warn(\n"
     ]
    }
   ],
   "source": [
    "import numpy as np\n",
    "import pandas as pd\n",
    "import matplotlib.pyplot as plt\n",
    "from sklearn.tree import DecisionTreeClassifier\n",
    "from sklearn.model_selection import train_test_split\n",
    "from sklearn.metrics import accuracy_score\n",
    "import joblib\n",
    "from sklearn import tree\n",
    "\n",
    "    # import and clean data\n",
    "music_data = pd.read_csv(\"music.csv\")\n",
    "x = music_data.drop(columns = [\"genre\"])\n",
    "y = music_data[\"genre\"]\n",
    "  # create_model\n",
    "# x_train, x_test, y_train, y_test = train_test_split(x,y,test_size = 0.3)\n",
    "\n",
    "\n",
    "# model = DecisionTreeClassifier()\n",
    "   # train_model\n",
    "# model.fit(x_train,y_train)\n",
    "   # saving the models-record\n",
    "# joblib.dump(model, 'music_recommendation.joblib')\n",
    "  # loading the model record\n",
    "joblib.load('music_recommendation.joblib')\n",
    "   # making predictions\n",
    "   # prediction = model.predict(x_test)\n",
    "prediction = model.predict([[22,0]])\n",
    "prediction\n",
    "   # evaluate the model\n",
    "# score = accuracy_score(y_test, prediction)\n",
    "# score\n",
    "\n",
    "  # showing it graphically\n",
    "\n",
    "tree.export_graphviz(model, out_file = 'music_recommender.dot',\n",
    "                         feature_names = ['age', 'gender'],\n",
    "                     class_names = sorted(y.unique()),\n",
    "                     label = 'all',\n",
    "                     filled = True,\n",
    "                     rounded = True)\n",
    "\n",
    "\n",
    "\n"
   ]
  },
  {
   "cell_type": "code",
   "execution_count": null,
   "id": "bf8a6b3d-946c-4cda-b295-cefa838668d4",
   "metadata": {},
   "outputs": [],
   "source": []
  }
 ],
 "metadata": {
  "kernelspec": {
   "display_name": "Python 3 (ipykernel)",
   "language": "python",
   "name": "python3"
  },
  "language_info": {
   "codemirror_mode": {
    "name": "ipython",
    "version": 3
   },
   "file_extension": ".py",
   "mimetype": "text/x-python",
   "name": "python",
   "nbconvert_exporter": "python",
   "pygments_lexer": "ipython3",
   "version": "3.12.4"
  }
 },
 "nbformat": 4,
 "nbformat_minor": 5
}
